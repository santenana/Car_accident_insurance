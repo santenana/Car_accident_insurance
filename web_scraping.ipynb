{
 "cells": [
  {
   "cell_type": "code",
   "execution_count": 21,
   "metadata": {},
   "outputs": [],
   "source": [
    "import requests\n",
    "from bs4 import BeautifulSoup\n",
    "import os\n",
    "import csv"
   ]
  },
  {
   "cell_type": "code",
   "execution_count": 147,
   "metadata": {},
   "outputs": [],
   "source": [
    "def extract_cars(url):\n",
    "    response = requests.get(url)\n",
    "    soup = BeautifulSoup(response.text, 'html.parser')\n",
    "    clase_sup = soup.find_all(\"lo\", {\"class\":'ui-search-layout ui-search-layout--grid'})\n",
    "    divs = soup.find_all(\"div\", {\"class\":'andes-card poly-card poly-card--grid-card andes-card--flat andes-card--padding-0 andes-card--animated'})\n",
    "    # print(divs)\n",
    "    carros = []\n",
    "    for item in divs:\n",
    "        dict_list = {}\n",
    "        clase_alta = BeautifulSoup(str(item),'html.parser')\n",
    "        nombre_carro = clase_alta.find('h2', class_='poly-box poly-component__title').text\n",
    "        precio_carro = clase_alta.find('span', class_='andes-money-amount__fraction').text\n",
    "        imagenes = clase_alta.find_all('img', class_=\"poly-component__picture\")\n",
    "        for img in imagenes:\n",
    "            url_imagen = img.get('src')\n",
    "            if not url_imagen.endswith('.webp'):\n",
    "                url_imagen = img.get('data-src')\n",
    "            else:\n",
    "                url_imagen = img.get('src')\n",
    "        dict_list['Nombre'] = nombre_carro\n",
    "        dict_list['Precio'] = precio_carro\n",
    "        dict_list['Imagen_URL'] = url_imagen\n",
    "        carros.append(dict_list)\n",
    "    return carros"
   ]
  },
  {
   "cell_type": "code",
   "execution_count": 166,
   "metadata": {},
   "outputs": [],
   "source": [
    "url = 'https://carros.tucarro.com.co/_Desde_289_PublishedToday_YES_NoIndex_True'\n",
    "carros = extract_cars(url)"
   ]
  },
  {
   "cell_type": "code",
   "execution_count": 167,
   "metadata": {},
   "outputs": [],
   "source": [
    "carros\n",
    "with open('carros.csv', mode='w', newline='') as file: \n",
    "    writer = csv.writer(file)\n",
    "    writer.writerow(['Nombre_Imagen', 'Precio'])\n",
    "    for item in carros:\n",
    "        try:\n",
    "            nombre_imagen = item['Nombre'].replace(' ', '_') + '.webp'\n",
    "            ruta_imagen = os.path.join('imagenes_carros', nombre_imagen)\n",
    "            response = requests.get(item['Imagen_URL'])\n",
    "            response.raise_for_status()\n",
    "            with open(ruta_imagen, 'wb') as f:\n",
    "                f.write(response.content)\n",
    "            writer.writerow([nombre_imagen, item['Precio']])\n",
    "        except Exception as e:\n",
    "            continue"
   ]
  }
 ],
 "metadata": {
  "kernelspec": {
   "display_name": "Scraping",
   "language": "python",
   "name": "python3"
  },
  "language_info": {
   "codemirror_mode": {
    "name": "ipython",
    "version": 3
   },
   "file_extension": ".py",
   "mimetype": "text/x-python",
   "name": "python",
   "nbconvert_exporter": "python",
   "pygments_lexer": "ipython3",
   "version": "3.10.15"
  }
 },
 "nbformat": 4,
 "nbformat_minor": 2
}
